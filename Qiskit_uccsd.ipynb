{
 "cells": [
  {
   "cell_type": "code",
   "execution_count": 1,
   "metadata": {},
   "outputs": [],
   "source": [
    "# import common packages\n",
    "import numpy as np\n",
    "\n",
    "from qiskit import Aer\n",
    "\n",
    "# lib from Qiskit Aqua\n",
    "from qiskit.aqua import Operator, QuantumInstance\n",
    "from qiskit.aqua.algorithms import VQE, ExactEigensolver\n",
    "from qiskit.aqua.components.optimizers import COBYLA\n",
    "\n",
    "# lib from Qiskit Aqua Chemistry\n",
    "from qiskit.chemistry import FermionicOperator\n",
    "from qiskit.chemistry.drivers import PySCFDriver, UnitsType\n",
    "from qiskit.chemistry.aqua_extensions.components.variational_forms import UCCSD\n",
    "from qiskit.chemistry.aqua_extensions.components.initial_states import HartreeFock"
   ]
  },
  {
   "cell_type": "code",
   "execution_count": 2,
   "metadata": {},
   "outputs": [],
   "source": [
    "# using driver to get fermionic Hamiltonian\n",
    "# PySCF example\n",
    "driver = PySCFDriver(atom='H .0 .0 .0; H .0 .0 0.62', unit=UnitsType.ANGSTROM,\n",
    "                     charge=0, spin=0, basis='sto3g')\n",
    "molecule = driver.run()"
   ]
  },
  {
   "cell_type": "code",
   "execution_count": 23,
   "metadata": {},
   "outputs": [
    {
     "name": "stdout",
     "output_type": "stream",
     "text": [
      "HF energy: -1.9604419975074752\n",
      "# of electrons: 2\n",
      "# of spin orbitals: 4\n"
     ]
    }
   ],
   "source": [
    "\n",
    "# please be aware that the idx here with respective to original idx\n",
    "freeze_list = []\n",
    "remove_list = [] # [-3, -2] for LiH; negative number denotes the reverse order\n",
    "map_type = 'jordan_wigner'\n",
    "\n",
    "h1 = molecule.one_body_integrals\n",
    "h2 = molecule.two_body_integrals\n",
    "nuclear_repulsion_energy = molecule.nuclear_repulsion_energy\n",
    "\n",
    "num_particles = molecule.num_alpha + molecule.num_beta\n",
    "num_spin_orbitals = molecule.num_orbitals * 2\n",
    "print(\"HF energy: {}\".format(molecule.hf_energy - molecule.nuclear_repulsion_energy))\n",
    "print(\"# of electrons: {}\".format(num_particles))\n",
    "print(\"# of spin orbitals: {}\".format(num_spin_orbitals))"
   ]
  },
  {
   "cell_type": "code",
   "execution_count": 24,
   "metadata": {},
   "outputs": [
    {
     "name": "stdout",
     "output_type": "stream",
     "text": [
      "IIII\t(-0.760956329741821+0j)\n",
      "IIIZ\t(0.19123222520306998+0j)\n",
      "IIZI\t(-0.28689718948787934+0j)\n",
      "IZII\t(0.19123222520306996+0j)\n",
      "ZIII\t(-0.28689718948787934+0j)\n",
      "IIZZ\t(0.12759488321856435+0j)\n",
      "IZIZ\t(0.17439448237120006+0j)\n",
      "XXYY\t(0.043688507736669935+0j)\n",
      "YYYY\t(0.043688507736669935+0j)\n",
      "XXXX\t(0.043688507736669935+0j)\n",
      "YYXX\t(0.043688507736669935+0j)\n",
      "ZIIZ\t(0.17128339095523432+0j)\n",
      "IZZI\t(0.17128339095523432+0j)\n",
      "ZIZI\t(0.18013522759264217+0j)\n",
      "ZZII\t(0.12759488321856435+0j)\n",
      "\n",
      "Representation: paulis, qubits: 4, size: 15\n"
     ]
    }
   ],
   "source": [
    "# prepare full idx of freeze_list and remove_list\n",
    "# convert all negative idx to positive\n",
    "remove_list = [x % molecule.num_orbitals for x in remove_list]\n",
    "freeze_list = [x % molecule.num_orbitals for x in freeze_list]\n",
    "# update the idx in remove_list of the idx after frozen, since the idx of orbitals are changed after freezing\n",
    "remove_list = [x - len(freeze_list) for x in remove_list]\n",
    "remove_list += [x + molecule.num_orbitals - len(freeze_list)  for x in remove_list]\n",
    "freeze_list += [x + molecule.num_orbitals for x in freeze_list]\n",
    "\n",
    "# prepare fermionic hamiltonian with orbital freezing and eliminating, and then map to qubit hamiltonian\n",
    "# and if PARITY mapping is selected, reduction qubits\n",
    "energy_shift = 0.0\n",
    "qubit_reduction = True if map_type == 'parity' else False\n",
    "\n",
    "ferOp = FermionicOperator(h1=h1, h2=h2)\n",
    "if len(freeze_list) > 0:\n",
    "    ferOp, energy_shift = ferOp.fermion_mode_freezing(freeze_list)\n",
    "    num_spin_orbitals -= len(freeze_list)\n",
    "    num_particles -= len(freeze_list)\n",
    "if len(remove_list) > 0:\n",
    "    ferOp = ferOp.fermion_mode_elimination(remove_list)\n",
    "    num_spin_orbitals -= len(remove_list)\n",
    "\n",
    "qubitOp = ferOp.mapping(map_type=map_type, threshold=0.00000001)\n",
    "qubitOp = qubitOp.two_qubit_reduced_operator(num_particles) if qubit_reduction else qubitOp\n",
    "qubitOp.chop(10**-10)\n",
    "\n",
    "print(qubitOp.print_operators())\n",
    "print(qubitOp)"
   ]
  },
  {
   "cell_type": "code",
   "execution_count": 25,
   "metadata": {},
   "outputs": [
    {
     "name": "stdout",
     "output_type": "stream",
     "text": [
      "The computed energy is: -1.976278801334\n",
      "The total ground state energy is: -1.122767170818\n"
     ]
    }
   ],
   "source": [
    "# Using exact eigensolver to get the smallest eigenvalue\n",
    "exact_eigensolver = ExactEigensolver(qubitOp, k=1)\n",
    "ret = exact_eigensolver.run()\n",
    "print('The computed energy is: {:.12f}'.format(ret['eigvals'][0].real))\n",
    "print('The total ground state energy is: {:.12f}'.format(ret['eigvals'][0].real + energy_shift + nuclear_repulsion_energy))"
   ]
  },
  {
   "cell_type": "code",
   "execution_count": 14,
   "metadata": {},
   "outputs": [],
   "source": [
    "backend = Aer.get_backend('statevector_simulator')"
   ]
  },
  {
   "cell_type": "code",
   "execution_count": 17,
   "metadata": {},
   "outputs": [],
   "source": [
    "# setup COBYLA optimizer\n",
    "max_eval = 200\n",
    "cobyla = COBYLA(maxiter=max_eval)\n",
    "\n",
    "# setup HartreeFock state\n",
    "HF_state = HartreeFock(qubitOp.num_qubits, num_spin_orbitals, num_particles, map_type, \n",
    "                       qubit_reduction)\n",
    "\n",
    "# setup UCCSD variational form\n",
    "var_form = UCCSD(qubitOp.num_qubits, depth=1, \n",
    "                   num_orbitals=num_spin_orbitals, num_particles=num_particles, \n",
    "                   active_occupied=[], active_unoccupied=[],\n",
    "                   initial_state=HF_state, qubit_mapping=map_type, \n",
    "                   two_qubit_reduction=qubit_reduction, num_time_slices=1)\n",
    "\n",
    "# setup VQE\n",
    "vqe = VQE(qubitOp, var_form, cobyla, 'matrix')\n",
    "quantum_instance = QuantumInstance(backend=backend)"
   ]
  },
  {
   "cell_type": "code",
   "execution_count": 18,
   "metadata": {},
   "outputs": [
    {
     "name": "stdout",
     "output_type": "stream",
     "text": [
      "The computed ground state energy is: -1.976278777408\n",
      "The total ground state energy is: -1.122767146892\n",
      "Parameters: [-1.03263823e-05  1.47228444e-04 -9.03322973e-02]\n"
     ]
    }
   ],
   "source": [
    "results = vqe.run(quantum_instance)\n",
    "print('The computed ground state energy is: {:.12f}'.format(results['eigvals'][0]))\n",
    "print('The total ground state energy is: {:.12f}'.format(results['eigvals'][0] + energy_shift + nuclear_repulsion_energy))\n",
    "print(\"Parameters: {}\".format(results['opt_params']))"
   ]
  },
  {
   "cell_type": "code",
   "execution_count": null,
   "metadata": {
    "collapsed": true
   },
   "outputs": [],
   "source": []
  }
 ],
 "metadata": {
  "kernelspec": {
   "display_name": "Python 3",
   "language": "python",
   "name": "python3"
  },
  "language_info": {
   "codemirror_mode": {
    "name": "ipython",
    "version": 3
   },
   "file_extension": ".py",
   "mimetype": "text/x-python",
   "name": "python",
   "nbconvert_exporter": "python",
   "pygments_lexer": "ipython3",
   "version": "3.6.7"
  }
 },
 "nbformat": 4,
 "nbformat_minor": 2
}
